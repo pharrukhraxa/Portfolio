{
 "cells": [
  {
   "cell_type": "markdown",
   "id": "9b6f160f",
   "metadata": {},
   "source": [
    "<h1>Finding the correlation between variables</h1>\n",
    "<br /><br />\n",
    "\n",
    "**Used `Python (Pandas, NumPy)` and other necessry/famous libraries to undertand & explore correlations between different variables of a dataset.**\n",
    "\n",
    "**Correlations are identified, and highlighted using `graphs`.**\n",
    "\n",
    "**I've used a `publicly available dataset` to perform data analysis operations.**\n",
    "\n",
    "The dataset contains various laptop models, their specifications and prices. I'll explore correlation between those factors (specifications) of laptops which are affecting/increasing the price.\n"
   ]
  },
  {
   "cell_type": "markdown",
   "id": "f65f57e4",
   "metadata": {},
   "source": [
    "**If you are interested to know what most of the following code lines mean, don't miss reading the comment lines starting with hash `#`**\n",
    "\n",
    "Here you go ..."
   ]
  },
  {
   "cell_type": "code",
   "execution_count": 1,
   "id": "4894f661",
   "metadata": {},
   "outputs": [
    {
     "data": {
      "text/html": [
       "<div>\n",
       "<style scoped>\n",
       "    .dataframe tbody tr th:only-of-type {\n",
       "        vertical-align: middle;\n",
       "    }\n",
       "\n",
       "    .dataframe tbody tr th {\n",
       "        vertical-align: top;\n",
       "    }\n",
       "\n",
       "    .dataframe thead th {\n",
       "        text-align: right;\n",
       "    }\n",
       "</style>\n",
       "<table border=\"1\" class=\"dataframe\">\n",
       "  <thead>\n",
       "    <tr style=\"text-align: right;\">\n",
       "      <th></th>\n",
       "      <th>Laptop</th>\n",
       "      <th>Status</th>\n",
       "      <th>Brand</th>\n",
       "      <th>Model</th>\n",
       "      <th>CUP</th>\n",
       "      <th>RAM</th>\n",
       "      <th>Storage</th>\n",
       "      <th>Storage_Type</th>\n",
       "      <th>GPU</th>\n",
       "      <th>Screen</th>\n",
       "      <th>Touch</th>\n",
       "      <th>Price</th>\n",
       "    </tr>\n",
       "  </thead>\n",
       "  <tbody>\n",
       "    <tr>\n",
       "      <th>0</th>\n",
       "      <td>ASUS ExpertBook B1 B1502CBA-EJ0436X Intel Core...</td>\n",
       "      <td>New</td>\n",
       "      <td>Asus</td>\n",
       "      <td>ExpertBook</td>\n",
       "      <td>Intel Core i5</td>\n",
       "      <td>8</td>\n",
       "      <td>512</td>\n",
       "      <td>SSD</td>\n",
       "      <td></td>\n",
       "      <td>15.6</td>\n",
       "      <td>No</td>\n",
       "      <td>1009.00</td>\n",
       "    </tr>\n",
       "    <tr>\n",
       "      <th>1</th>\n",
       "      <td>Alurin Go Start Intel Celeron N4020/8GB/256GB ...</td>\n",
       "      <td>New</td>\n",
       "      <td>Alurin</td>\n",
       "      <td>Go</td>\n",
       "      <td>Intel Celeron</td>\n",
       "      <td>8</td>\n",
       "      <td>256</td>\n",
       "      <td>SSD</td>\n",
       "      <td></td>\n",
       "      <td>15.6</td>\n",
       "      <td>No</td>\n",
       "      <td>299.00</td>\n",
       "    </tr>\n",
       "    <tr>\n",
       "      <th>2</th>\n",
       "      <td>ASUS ExpertBook B1 B1502CBA-EJ0424X Intel Core...</td>\n",
       "      <td>New</td>\n",
       "      <td>Asus</td>\n",
       "      <td>ExpertBook</td>\n",
       "      <td>Intel Core i3</td>\n",
       "      <td>8</td>\n",
       "      <td>256</td>\n",
       "      <td>SSD</td>\n",
       "      <td></td>\n",
       "      <td>15.6</td>\n",
       "      <td>No</td>\n",
       "      <td>789.00</td>\n",
       "    </tr>\n",
       "    <tr>\n",
       "      <th>3</th>\n",
       "      <td>MSI Katana GF66 12UC-082XES Intel Core i7-1270...</td>\n",
       "      <td>New</td>\n",
       "      <td>MSI</td>\n",
       "      <td>Katana</td>\n",
       "      <td>Intel Core i7</td>\n",
       "      <td>16</td>\n",
       "      <td>1000</td>\n",
       "      <td>SSD</td>\n",
       "      <td>RTX 3050</td>\n",
       "      <td>15.6</td>\n",
       "      <td>No</td>\n",
       "      <td>1199.00</td>\n",
       "    </tr>\n",
       "    <tr>\n",
       "      <th>4</th>\n",
       "      <td>HP 15S-FQ5085NS Intel Core i5-1235U/16GB/512GB...</td>\n",
       "      <td>New</td>\n",
       "      <td>HP</td>\n",
       "      <td>15S</td>\n",
       "      <td>Intel Core i5</td>\n",
       "      <td>16</td>\n",
       "      <td>512</td>\n",
       "      <td>SSD</td>\n",
       "      <td></td>\n",
       "      <td>15.6</td>\n",
       "      <td>No</td>\n",
       "      <td>669.01</td>\n",
       "    </tr>\n",
       "  </tbody>\n",
       "</table>\n",
       "</div>"
      ],
      "text/plain": [
       "                                              Laptop Status   Brand  \\\n",
       "0  ASUS ExpertBook B1 B1502CBA-EJ0436X Intel Core...    New    Asus   \n",
       "1  Alurin Go Start Intel Celeron N4020/8GB/256GB ...    New  Alurin   \n",
       "2  ASUS ExpertBook B1 B1502CBA-EJ0424X Intel Core...    New    Asus   \n",
       "3  MSI Katana GF66 12UC-082XES Intel Core i7-1270...    New     MSI   \n",
       "4  HP 15S-FQ5085NS Intel Core i5-1235U/16GB/512GB...    New      HP   \n",
       "\n",
       "        Model            CUP  RAM  Storage Storage_Type       GPU  Screen  \\\n",
       "0  ExpertBook  Intel Core i5    8      512          SSD              15.6   \n",
       "1          Go  Intel Celeron    8      256          SSD              15.6   \n",
       "2  ExpertBook  Intel Core i3    8      256          SSD              15.6   \n",
       "3      Katana  Intel Core i7   16     1000          SSD  RTX 3050    15.6   \n",
       "4         15S  Intel Core i5   16      512          SSD              15.6   \n",
       "\n",
       "  Touch    Price  \n",
       "0    No  1009.00  \n",
       "1    No   299.00  \n",
       "2    No   789.00  \n",
       "3    No  1199.00  \n",
       "4    No   669.01  "
      ]
     },
     "execution_count": 1,
     "metadata": {},
     "output_type": "execute_result"
    }
   ],
   "source": [
    "# Importing necessary libraries\n",
    "import pandas as pd\n",
    "import matplotlib.pyplot as plt\n",
    "import seaborn as sns\n",
    "import numpy as np\n",
    "\n",
    "\n",
    "# Connecting pandas to the required dataset\n",
    "laptop_info = pd.read_csv(\"Datasets/laptop_pricing.csv\")\n",
    "\n",
    "# Preventing 'NaN' values to appear here\n",
    "laptop_info = laptop_info.fillna('')\n",
    "\n",
    "# To view top 5 rows of the dataset\n",
    "laptop_info.head()"
   ]
  },
  {
   "cell_type": "code",
   "execution_count": 2,
   "id": "6c5a8933",
   "metadata": {},
   "outputs": [
    {
     "name": "stdout",
     "output_type": "stream",
     "text": [
      "<class 'pandas.core.frame.DataFrame'>\n",
      "RangeIndex: 100 entries, 0 to 99\n",
      "Data columns (total 12 columns):\n",
      " #   Column        Non-Null Count  Dtype  \n",
      "---  ------        --------------  -----  \n",
      " 0   Laptop        100 non-null    object \n",
      " 1   Status        100 non-null    object \n",
      " 2   Brand         100 non-null    object \n",
      " 3   Model         100 non-null    object \n",
      " 4   CUP           100 non-null    object \n",
      " 5   RAM           100 non-null    int64  \n",
      " 6   Storage       100 non-null    int64  \n",
      " 7   Storage_Type  100 non-null    object \n",
      " 8   GPU           100 non-null    object \n",
      " 9   Screen        100 non-null    float64\n",
      " 10  Touch         100 non-null    object \n",
      " 11  Price         100 non-null    float64\n",
      "dtypes: float64(2), int64(2), object(8)\n",
      "memory usage: 9.5+ KB\n"
     ]
    }
   ],
   "source": [
    "\n",
    "# Checking data types of all fields in the selected dataset\n",
    "\n",
    "laptop_info.info()\n"
   ]
  },
  {
   "cell_type": "code",
   "execution_count": 3,
   "id": "a0194edc",
   "metadata": {},
   "outputs": [
    {
     "data": {
      "text/html": [
       "<div>\n",
       "<style scoped>\n",
       "    .dataframe tbody tr th:only-of-type {\n",
       "        vertical-align: middle;\n",
       "    }\n",
       "\n",
       "    .dataframe tbody tr th {\n",
       "        vertical-align: top;\n",
       "    }\n",
       "\n",
       "    .dataframe thead th {\n",
       "        text-align: right;\n",
       "    }\n",
       "</style>\n",
       "<table border=\"1\" class=\"dataframe\">\n",
       "  <thead>\n",
       "    <tr style=\"text-align: right;\">\n",
       "      <th></th>\n",
       "      <th>RAM</th>\n",
       "      <th>Storage</th>\n",
       "      <th>Screen</th>\n",
       "      <th>Price</th>\n",
       "    </tr>\n",
       "  </thead>\n",
       "  <tbody>\n",
       "    <tr>\n",
       "      <th>RAM</th>\n",
       "      <td>1.00</td>\n",
       "      <td>0.72</td>\n",
       "      <td>0.36</td>\n",
       "      <td>0.81</td>\n",
       "    </tr>\n",
       "    <tr>\n",
       "      <th>Storage</th>\n",
       "      <td>0.72</td>\n",
       "      <td>1.00</td>\n",
       "      <td>0.29</td>\n",
       "      <td>0.73</td>\n",
       "    </tr>\n",
       "    <tr>\n",
       "      <th>Screen</th>\n",
       "      <td>0.36</td>\n",
       "      <td>0.29</td>\n",
       "      <td>1.00</td>\n",
       "      <td>0.18</td>\n",
       "    </tr>\n",
       "    <tr>\n",
       "      <th>Price</th>\n",
       "      <td>0.81</td>\n",
       "      <td>0.73</td>\n",
       "      <td>0.18</td>\n",
       "      <td>1.00</td>\n",
       "    </tr>\n",
       "  </tbody>\n",
       "</table>\n",
       "</div>"
      ],
      "text/plain": [
       "          RAM  Storage  Screen  Price\n",
       "RAM      1.00     0.72    0.36   0.81\n",
       "Storage  0.72     1.00    0.29   0.73\n",
       "Screen   0.36     0.29    1.00   0.18\n",
       "Price    0.81     0.73    0.18   1.00"
      ]
     },
     "execution_count": 3,
     "metadata": {},
     "output_type": "execute_result"
    }
   ],
   "source": [
    "\n",
    "# Finding correlation betweent different variables of the dataset (rounding decimal values to 2)\n",
    "\n",
    "correlation = laptop_info.corr(numeric_only = True).round(2)\n",
    "\n",
    "correlation"
   ]
  },
  {
   "cell_type": "markdown",
   "id": "353f5069",
   "metadata": {},
   "source": [
    "**The matrix above is showing the correlation values of differenct `numeric` variables (factors affecting price in this case). The higher value means, the higher is the correlation. However, for each variable, its own value will always be `1` (which is irrelevant and is not considered during analysis).**\n",
    "\n",
    "Following three variables from the above matrix will be considered for correlation (affecting the 'Price' variable):\n",
    "\n",
    "1. RAM\n",
    "2. Storage\n",
    "3. Screen"
   ]
  },
  {
   "cell_type": "code",
   "execution_count": 4,
   "id": "b23645e5",
   "metadata": {},
   "outputs": [
    {
     "data": {
      "text/plain": [
       "RAM        0.81\n",
       "Storage    0.73\n",
       "Screen     0.18\n",
       "Name: Price, dtype: float64"
      ]
     },
     "execution_count": 4,
     "metadata": {},
     "output_type": "execute_result"
    }
   ],
   "source": [
    "\n",
    "#Narrowing correlation factors, excluding the 'Price' variable\n",
    "\n",
    "correlation_by_price = correlation['Price'][0:3]\n",
    "\n",
    "correlation_by_price"
   ]
  },
  {
   "cell_type": "markdown",
   "id": "429f75cb",
   "metadata": {},
   "source": [
    "**The analysis shows that the variabe `RAM` is the affecting the price the most, since its value is highest (closer to `1`)**.\n",
    "\n",
    "**The second factor/variable affecting on laptop price is `Storage`**."
   ]
  },
  {
   "cell_type": "code",
   "execution_count": 5,
   "id": "424e283a",
   "metadata": {},
   "outputs": [
    {
     "data": {
      "image/png": "[encoded data removed]",
      "text/plain": [
       "<Figure size 640x480 with 1 Axes>"
      ]
     },
     "metadata": {},
     "output_type": "display_data"
    }
   ],
   "source": [
    "\n",
    "# Plotting the graph, showing which variables are affecting the price the most\n",
    "# The graph shows that the higher the RAM of a laptop, the heigher will be the price\n",
    "\n",
    "correlation_by_price.plot.line(color='maroon')\n",
    "correlation_by_price.plot.bar(width=0.3)\n",
    "\n",
    "plt.ylabel(\"Correlation Values\")\n",
    "plt.xlabel(\"Factors\")\n",
    "plt.title(\"Correlation to Price Factors\")\n",
    "plt.ylim(0, 1)\n",
    "\n",
    "plt.show()"
   ]
  },
  {
   "cell_type": "markdown",
   "id": "4e93d009",
   "metadata": {},
   "source": [
    "**The above `bar` and `line` graphs combined, are showing the variables with highest correlational values**\n",
    "\n",
    "\n",
    "**Notice the following variables:**\n",
    "<br />\n",
    "\n",
    "<img src=\"Fig-1.jpg\" width='800' />\n"
   ]
  },
  {
   "cell_type": "code",
   "execution_count": 6,
   "id": "24785a60",
   "metadata": {},
   "outputs": [
    {
     "data": {
      "text/plain": [
       "<Axes: >"
      ]
     },
     "execution_count": 6,
     "metadata": {},
     "output_type": "execute_result"
    },
    {
     "data": {
      "image/png": "[encoded data removed]",
      "text/plain": [
       "<Figure size 640x480 with 2 Axes>"
      ]
     },
     "metadata": {},
     "output_type": "display_data"
    }
   ],
   "source": [
    "\n",
    "# Plotting a heatmap to check correlation between the factors affecting the Price\n",
    "\n",
    "sns.heatmap(correlation, annot=True, vmin=0, vmax=1, cmap=\"vlag\")"
   ]
  },
  {
   "cell_type": "markdown",
   "id": "4013966a",
   "metadata": {},
   "source": [
    "**Again - the matrix above makes it easy to visualize the variables `RAM` and `Storage` are highly correlated with the `Price`.**\n",
    "\n",
    "**See the illustration below where variables with highest correlations are highlighted:**\n",
    "<br />\n",
    "\n",
    "<img src=\"Fig-2.jpg\" width='800' />"
   ]
  },
  {
   "cell_type": "code",
   "execution_count": 7,
   "id": "7bbbb32b",
   "metadata": {},
   "outputs": [
    {
     "data": {
      "text/plain": [
       "array([[ True,  True,  True,  True],\n",
       "       [False,  True,  True,  True],\n",
       "       [False, False,  True,  True],\n",
       "       [False, False, False,  True]])"
      ]
     },
     "execution_count": 7,
     "metadata": {},
     "output_type": "execute_result"
    }
   ],
   "source": [
    "\n",
    "# Using NumPy masking technique to get True & False values as correlation\n",
    "\n",
    "masking = np.triu(np.ones_like(correlation, dtype=bool))\n",
    "\n",
    "masking"
   ]
  },
  {
   "cell_type": "code",
   "execution_count": 8,
   "id": "c04bd09a",
   "metadata": {},
   "outputs": [
    {
     "ename": "NameError",
     "evalue": "name 'corelation' is not defined",
     "output_type": "error",
     "traceback": [
      "\u001b[1;31m---------------------------------------------------------------------------\u001b[0m",
      "\u001b[1;31mNameError\u001b[0m                                 Traceback (most recent call last)",
      "Cell \u001b[1;32mIn[8], line 3\u001b[0m\n\u001b[0;32m      1\u001b[0m \u001b[38;5;66;03m# Now masking the redundant values, so that the focus remains only on the varibales actually affecting the Price variables\u001b[39;00m\n\u001b[1;32m----> 3\u001b[0m sns\u001b[38;5;241m.\u001b[39mheatmap(corelation, annot\u001b[38;5;241m=\u001b[39m\u001b[38;5;28;01mTrue\u001b[39;00m, vmin\u001b[38;5;241m=\u001b[39m\u001b[38;5;241m0\u001b[39m, vmax\u001b[38;5;241m=\u001b[39m\u001b[38;5;241m1\u001b[39m, cmap\u001b[38;5;241m=\u001b[39m\u001b[38;5;124m'\u001b[39m\u001b[38;5;124mvlag\u001b[39m\u001b[38;5;124m'\u001b[39m, mask\u001b[38;5;241m=\u001b[39mmasking)\n",
      "\u001b[1;31mNameError\u001b[0m: name 'corelation' is not defined"
     ]
    }
   ],
   "source": [
    "\n",
    "# Now masking the redundant values, so that the focus remains only on the varibales actually affecting the Price variables\n",
    "\n",
    "sns.heatmap(corelation, annot=True, vmin=0, vmax=1, cmap='vlag', mask=masking)"
   ]
  },
  {
   "cell_type": "code",
   "execution_count": null,
   "id": "fbd704c5",
   "metadata": {},
   "outputs": [],
   "source": []
  }
 ],
 "metadata": {
  "kernelspec": {
   "display_name": "Python 3 (ipykernel)",
   "language": "python",
   "name": "python3"
  },
  "language_info": {
   "codemirror_mode": {
    "name": "ipython",
    "version": 3
   },
   "file_extension": ".py",
   "mimetype": "text/x-python",
   "name": "python",
   "nbconvert_exporter": "python",
   "pygments_lexer": "ipython3",
   "version": "3.11.4"
  }
 },
 "nbformat": 4,
 "nbformat_minor": 5
}
